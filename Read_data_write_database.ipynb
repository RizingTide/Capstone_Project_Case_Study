{
 "cells": [
  {
   "cell_type": "code",
   "execution_count": 7,
   "metadata": {},
   "outputs": [],
   "source": [
    "import findspark\n",
    "findspark.init()\n",
    "\n",
    "from pyspark import SparkContext\n",
    "\n",
    "from pyspark.sql import SparkSession\n",
    "from pyspark.sql import functions as f\n",
    "from pyspark.sql.functions import*\n",
    "from pyspark.sql.types import StructType, StructField, StringType, IntegerType, BooleanType, DoubleType\n",
    "\n",
    "import pandas as pd\n",
    "import json\n",
    "import numpy as np \n",
    "import matplotlib.pyplot as plt\n",
    "import seaborn as sns"
   ]
  },
  {
   "cell_type": "markdown",
   "metadata": {},
   "source": [
    "# For “Credit Card System,” create a Python and PySpark SQL program to read/extract the following JSON files according to the specifications found in the mapping document.\n"
   ]
  },
  {
   "cell_type": "code",
   "execution_count": 80,
   "metadata": {},
   "outputs": [
    {
     "name": "stdout",
     "output_type": "stream",
     "text": [
      "23/03/02 08:59:14 WARN SparkSession: Using an existing Spark session; only runtime SQL configurations will take effect.\n",
      "Extraction Completed\n",
      "Transformation Complete\n"
     ]
    }
   ],
   "source": [
    "def read_data():\n",
    "    file=input(\"Which file would you like to extract? Note: Please include file extension\")\n",
    "    while \".json\" not in file:\n",
    "        print(\"Please make sure this is a json file and include the file extension. Enter again: \")\n",
    "        file=input(\"Which file would you like to extract? Note: Please include file extension\")\n",
    "    spark = SparkSession.builder.master(\"local[*]\").appName(file).getOrCreate()\n",
    "    df = spark.read.json(file)\n",
    "    print(\"Extraction Completed\")\n",
    "    if \"branch\" in file:\n",
    "        df = df.na.fill(value=99999, subset=[\"BRANCH_ZIP\"])\n",
    "        df = df.withColumn(\"PARTIAL_PHONE\", f.concat(f.lit(\"(\"), f.col(\"BRANCH_PHONE\")[1:3], f.lit(\")\")))\n",
    "        df = df.withColumn(\"BRANCH_PHONE\", f.concat(f.col(\"PARTIAL_PHONE\"), f.col(\"BRANCH_PHONE\")[4:3], f.lit(\"-\"), f.col(\"BRANCH_PHONE\")[7:9]))\n",
    "        df = df.drop(\"PARTIAL_PHONE\")\n",
    "        global branch_df\n",
    "        branch_df =df\n",
    "    elif \"custmer\" in file:\n",
    "        df = df.withColumn(\"FIRST_NAME\", f.initcap(df.FIRST_NAME))\n",
    "        df = df.withColumn(\"MIDDLE_NAME\", f.lower(df.MIDDLE_NAME))\n",
    "        df = df.withColumn(\"LAST_NAME\", f.initcap(df.LAST_NAME))\n",
    "        # Since we don't ave exact area codes, we are assuming an area code for now. We may change this in the future if we can have a dictionary mapping \n",
    "        # an area code kist to city or state list, and by checking CUST_STATE or CUST_CITY we can better guess who may have what area code (if they have mostly lived there)\n",
    "        df = df.withColumn(\"CUST_PHONE\", f.concat((f.lit(\"(917)\")), f.col(\"CUST_PHONE\")))\n",
    "        df = df.withColumn(\"CUST_PHONE\", f.concat(f.col(\"CUST_PHONE\")[0:8], f.lit(\"-\"), f.col(\"CUST_PHONE\")[9:12]))\n",
    "        df = df.withColumn(\"STREET_NAME,APT_NO\", f.concat(f.col(\"STREET_NAME\"), f.lit(\",\"), f.col(\"APT_NO\")))\n",
    "        df = df.drop(\"APT_NO\", \"STREET_NAME\")\n",
    "        global customer_df\n",
    "        customer_df = df\n",
    "    elif \"credit\" in file:\n",
    "        df = df.withColumn(\"DAY,MONTH,YEAR\", f.concat(f.col(\"YEAR\"), f.col(\"MONTH\"), f.col(\"DAY\")))\n",
    "        df = df.drop(\"DAY\", \"MONTH\", \"YEAR\")\n",
    "        global credit_df\n",
    "        credit_df = df\n",
    "    print(\"Transformation Complete\")\n",
    "\n",
    "read_data()\n"
   ]
  },
  {
   "cell_type": "code",
   "execution_count": 82,
   "metadata": {},
   "outputs": [
    {
     "name": "stdout",
     "output_type": "stream",
     "text": [
      "Loading...\n"
     ]
    },
    {
     "name": "stderr",
     "output_type": "stream",
     "text": [
      "[Stage 74:===================>                                      (1 + 2) / 3]\r"
     ]
    },
    {
     "name": "stdout",
     "output_type": "stream",
     "text": [
      "Finished Writing And Loading Data to Database\n"
     ]
    },
    {
     "name": "stderr",
     "output_type": "stream",
     "text": [
      "                                                                                \r"
     ]
    }
   ],
   "source": [
    "def write_data():\n",
    "    start_write=input(\"Would you like to load this data into MySQL DB? (y/n)\")\n",
    "    if start_write in [\"yes\", \"y\"]:\n",
    "        print(\"Loading...\")\n",
    "        branch_df.write.format(\"jdbc\").mode(\"append\").option(\"url\", \"jdbc:mysql://localhost:3306/creditcard_capstone\").option(\"dbtable\", \"creditcard_capstone.CDW_SAPP_BRANCH\").option(\"truncate\",\"true\").option(\"user\", \"root\").option(\"characterEncoding\",\"UTF-8\").option(\"useUnicode\", \"true\").option(\"password\", \"password\").save()\n",
    "        customer_df.write.format(\"jdbc\").mode(\"append\").option(\"url\", \"jdbc:mysql://localhost:3306/creditcard_capstone\").option(\"dbtable\", \"creditcard_capstone.CDW_SAPP_CUSTOMER\").option(\"truncate\",\"true\").option(\"user\", \"root\").option(\"characterEncoding\",\"UTF-8\").option(\"useUnicode\", \"true\").option(\"password\", \"password\").save()\n",
    "        credit_df.write.format(\"jdbc\").mode(\"append\").option(\"url\", \"jdbc:mysql://localhost:3306/creditcard_capstone\").option(\"dbtable\", \"creditcard_capstone.CDW_SAPP_CREDIT_CARD\").option(\"truncate\",\"true\").option(\"user\", \"root\").option(\"characterEncoding\",\"UTF-8\").option(\"useUnicode\", \"true\").option(\"password\", \"password\").save()\n",
    "    print(\"Finished Writing And Loading Data to Database\")\n",
    "\n",
    "write_data()\n"
   ]
  }
 ],
 "metadata": {
  "kernelspec": {
   "display_name": "Python 3",
   "language": "python",
   "name": "python3"
  },
  "language_info": {
   "codemirror_mode": {
    "name": "ipython",
    "version": 3
   },
   "file_extension": ".py",
   "mimetype": "text/x-python",
   "name": "python",
   "nbconvert_exporter": "python",
   "pygments_lexer": "ipython3",
   "version": "3.10.9"
  },
  "orig_nbformat": 4,
  "vscode": {
   "interpreter": {
    "hash": "aee8b7b246df8f9039afb4144a1f6fd8d2ca17a180786b69acc140d282b71a49"
   }
  }
 },
 "nbformat": 4,
 "nbformat_minor": 2
}
